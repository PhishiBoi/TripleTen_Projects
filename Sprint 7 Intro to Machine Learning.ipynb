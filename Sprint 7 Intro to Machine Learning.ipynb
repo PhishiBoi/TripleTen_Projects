{
 "cells": [
  {
   "cell_type": "markdown",
   "metadata": {},
   "source": [
    "<div style=\"border:solid blue 2px; padding: 20px\"> \n",
    "\n",
    "<strong>Reviewer's Introduction</strong>\n",
    "\n",
    "Hello Collin! 👋 \n",
    "\n",
    "I'm Han, your reviewer for this project (hanlee_97297 on Discord). I'm happy to review your project today.\n",
    "\n",
    "I will categorize my comments in green, blue or red boxes like this:\n",
    "\n",
    "<div class=\"alert alert-success\">\n",
    "    <b>Success:</b> Everything is done successfully.\n",
    "</div>\n",
    "<div class=\"alert alert-warning\">\n",
    "    <b>Remarks:</b> Suggestions for optimizations.\n",
    "</div>\n",
    "<div class=\"alert alert-danger\">\n",
    "    <b>Needs fixing:</b> This must be fixed for a project to be approved.\n",
    "</div>\n",
    "\n",
    "Please don't remove my comments :) If you have any questions or comments, don't hesitate to respond to my comments by creating a box that looks like this: \n",
    "<div class=\"alert alert-info\"> <b>Student comment:</b> Your text here.</div>    \n",
    "<br>\n",
    "\n",
    "\n",
    "📌 Here's how to create code for student comments inside a Markdown cell:\n",
    "    \n",
    "    \n",
    "    <div class=\"alert alert-info\">\n",
    "    <b> Student's comment</b>\n",
    "\n",
    "    Your text here. \n",
    "    </div>\n",
    "\n",
    "You can find out how to **format text** in a Markdown cell or how to **add links** [here](https://sqlbak.com/blog/jupyter-notebook-markdown-cheatsheet). \n",
    "\n",
    "\n",
    "<hr>\n",
    "Don’t forget to rate your experience by leaving feedback here:  \n",
    "<a href=\"https://form.typeform.com/to/msiTC4LB\" target=\"_blank\">https://form.typeform.com/to/msiTC4LB</a>\n",
    "</div>\n",
    "\n"
   ]
  },
  {
   "cell_type": "markdown",
   "metadata": {},
   "source": [
    "<div style=\"border: solid blue 2px; padding: 15px; margin: 10px\">\n",
    "<b>Reviewer's Comments – Iteration 1</b>\n",
    "\n",
    "Congratulatio, Collin! You've successfully met all the requirements of this project. Your code is clean and readable. The project is now approved. ✅\n",
    "\n",
    "---\n",
    "\n",
    "\n",
    "<b>Nice work on:</b>  \n",
    "✔️ Clear and thoughtful model selection and evaluation.<br.\n",
    "✔️ Well-written conclusion tying together findings and business value.\n",
    "</div>"
   ]
  },
  {
   "cell_type": "markdown",
   "metadata": {},
   "source": [
    "<div class=\"alert alert-warning\">\n",
    "    <b>Reviewer's comment – Iteration 1:</b><br>\n",
    "Consider writing an introductory section here.\n",
    "</div>"
   ]
  },
  {
   "cell_type": "code",
   "execution_count": 1,
   "metadata": {},
   "outputs": [],
   "source": [
    "import pandas as pd\n",
    "from sklearn.model_selection import train_test_split\n",
    "from sklearn.tree import DecisionTreeClassifier\n",
    "from sklearn.ensemble import RandomForestClassifier\n",
    "from sklearn.linear_model import LogisticRegression\n",
    "from sklearn.metrics import accuracy_score"
   ]
  },
  {
   "cell_type": "code",
   "execution_count": 2,
   "metadata": {},
   "outputs": [
    {
     "name": "stdout",
     "output_type": "stream",
     "text": [
      "<class 'pandas.core.frame.DataFrame'>\n",
      "RangeIndex: 3214 entries, 0 to 3213\n",
      "Data columns (total 5 columns):\n",
      " #   Column    Non-Null Count  Dtype  \n",
      "---  ------    --------------  -----  \n",
      " 0   calls     3214 non-null   float64\n",
      " 1   minutes   3214 non-null   float64\n",
      " 2   messages  3214 non-null   float64\n",
      " 3   mb_used   3214 non-null   float64\n",
      " 4   is_ultra  3214 non-null   int64  \n",
      "dtypes: float64(4), int64(1)\n",
      "memory usage: 125.7 KB\n"
     ]
    },
    {
     "data": {
      "text/html": [
       "<div>\n",
       "<style scoped>\n",
       "    .dataframe tbody tr th:only-of-type {\n",
       "        vertical-align: middle;\n",
       "    }\n",
       "\n",
       "    .dataframe tbody tr th {\n",
       "        vertical-align: top;\n",
       "    }\n",
       "\n",
       "    .dataframe thead th {\n",
       "        text-align: right;\n",
       "    }\n",
       "</style>\n",
       "<table border=\"1\" class=\"dataframe\">\n",
       "  <thead>\n",
       "    <tr style=\"text-align: right;\">\n",
       "      <th></th>\n",
       "      <th>calls</th>\n",
       "      <th>minutes</th>\n",
       "      <th>messages</th>\n",
       "      <th>mb_used</th>\n",
       "      <th>is_ultra</th>\n",
       "    </tr>\n",
       "  </thead>\n",
       "  <tbody>\n",
       "    <tr>\n",
       "      <th>0</th>\n",
       "      <td>40.0</td>\n",
       "      <td>311.90</td>\n",
       "      <td>83.0</td>\n",
       "      <td>19915.42</td>\n",
       "      <td>0</td>\n",
       "    </tr>\n",
       "    <tr>\n",
       "      <th>1</th>\n",
       "      <td>85.0</td>\n",
       "      <td>516.75</td>\n",
       "      <td>56.0</td>\n",
       "      <td>22696.96</td>\n",
       "      <td>0</td>\n",
       "    </tr>\n",
       "    <tr>\n",
       "      <th>2</th>\n",
       "      <td>77.0</td>\n",
       "      <td>467.66</td>\n",
       "      <td>86.0</td>\n",
       "      <td>21060.45</td>\n",
       "      <td>0</td>\n",
       "    </tr>\n",
       "    <tr>\n",
       "      <th>3</th>\n",
       "      <td>106.0</td>\n",
       "      <td>745.53</td>\n",
       "      <td>81.0</td>\n",
       "      <td>8437.39</td>\n",
       "      <td>1</td>\n",
       "    </tr>\n",
       "    <tr>\n",
       "      <th>4</th>\n",
       "      <td>66.0</td>\n",
       "      <td>418.74</td>\n",
       "      <td>1.0</td>\n",
       "      <td>14502.75</td>\n",
       "      <td>0</td>\n",
       "    </tr>\n",
       "  </tbody>\n",
       "</table>\n",
       "</div>"
      ],
      "text/plain": [
       "   calls  minutes  messages   mb_used  is_ultra\n",
       "0   40.0   311.90      83.0  19915.42         0\n",
       "1   85.0   516.75      56.0  22696.96         0\n",
       "2   77.0   467.66      86.0  21060.45         0\n",
       "3  106.0   745.53      81.0   8437.39         1\n",
       "4   66.0   418.74       1.0  14502.75         0"
      ]
     },
     "execution_count": 2,
     "metadata": {},
     "output_type": "execute_result"
    }
   ],
   "source": [
    "df = pd.read_csv('/datasets/users_behavior.csv')\n",
    "df.info()\n",
    "df.head()"
   ]
  },
  {
   "cell_type": "markdown",
   "metadata": {},
   "source": [
    "<div class=\"alert alert-success\">\n",
    "    <b>Reviewer's comment – Iteration 1:</b><br>\n",
    "Great start! All necessary libraries are correctly imported, and the initial data inspection using info() and head() is appropriately done.\n",
    "</div>"
   ]
  },
  {
   "cell_type": "code",
   "execution_count": 4,
   "metadata": {},
   "outputs": [],
   "source": [
    "#split the source data into training, validation, and test set\n",
    "features = df.drop(['is_ultra'], axis = 1)\n",
    "target = df['is_ultra']\n",
    "\n",
    "features_train_val, features_test, target_train_val, target_test = train_test_split(\n",
    "    features, target, test_size=0.2, random_state=12345\n",
    ")\n",
    "\n",
    "# Split train+val into train and val\n",
    "features_train, features_val, target_train, target_val = train_test_split(\n",
    "    features_train_val, target_train_val, test_size=0.25, random_state=12345\n",
    ")"
   ]
  },
  {
   "cell_type": "markdown",
   "metadata": {},
   "source": [
    "<div class=\"alert alert-success\">\n",
    "    <b>Reviewer's comment – Iteration 1:</b><br>\n",
    "Correct. The data splitting is clearly implemented here.\n",
    "</div>"
   ]
  },
  {
   "cell_type": "code",
   "execution_count": 19,
   "metadata": {},
   "outputs": [
    {
     "name": "stdout",
     "output_type": "stream",
     "text": [
      "Most accurate model \n",
      "Max Depth: 10 \n",
      "Accuracy: 0.7713841368584758\n"
     ]
    }
   ],
   "source": [
    "# Decision Tree\n",
    "best_model = None\n",
    "best_result = 0\n",
    "for depth in range(1, 11): \n",
    "    model = DecisionTreeClassifier(random_state=12345, max_depth=depth)\n",
    "    model.fit(features_train, target_train)\n",
    "    predictions = model.predict(features_val)\n",
    "    result = accuracy_score(target_val, predictions)\n",
    "    if result > best_result:\n",
    "        best_model = model\n",
    "        best_result = result\n",
    "\n",
    "print(f\"Most accurate model \\nMax Depth: {depth} \\nAccuracy: {result}\")"
   ]
  },
  {
   "cell_type": "code",
   "execution_count": 20,
   "metadata": {},
   "outputs": [
    {
     "name": "stdout",
     "output_type": "stream",
     "text": [
      "Accuracy of the best model on the validation set (n_estimators = 10: 0.7884914463452566\n"
     ]
    }
   ],
   "source": [
    "# Random Forest\n",
    "best_score = 0\n",
    "best_est = 0\n",
    "for est in range(1, 11):\n",
    "    model = RandomForestClassifier(random_state=12345, n_estimators=est)\n",
    "    model.fit(features_train, target_train)\n",
    "    score = model.score(features_val, target_val)\n",
    "    if score > best_score:\n",
    "        best_score = score\n",
    "        best_est = est\n",
    "\n",
    "print(\"Accuracy of the best model on the validation set (n_estimators = {}: {}\".format(best_est, best_score))"
   ]
  },
  {
   "cell_type": "markdown",
   "metadata": {},
   "source": [
    "<div class=\"alert alert-success\">\n",
    "    <b>Reviewer's comment – Iteration 1:</b><br>\n",
    "Nice job on tuning the hyperparameters.\n",
    "</div>"
   ]
  },
  {
   "cell_type": "code",
   "execution_count": 25,
   "metadata": {},
   "outputs": [
    {
     "name": "stdout",
     "output_type": "stream",
     "text": [
      "Accuracy of Logistic Regression on the validation set: 0.6998444790046656\n"
     ]
    }
   ],
   "source": [
    "# Logistic Regression\n",
    "model = LogisticRegression(random_state=12345, solver='liblinear')\n",
    "model.fit(features_train, target_train)\n",
    "score_log = model.score(features_val, target_val)\n",
    "print(f\"Accuracy of Logistic Regression on the validation set: {score_log}\")"
   ]
  },
  {
   "cell_type": "markdown",
   "metadata": {},
   "source": [
    "**SUMMARY**\n",
    "\n",
    "- In short, the most accurate model is a Random Forest with 10 estimators. This gave us an accuracy rating of 78%.\n",
    "- A normal Decision Tree with a depth of 10 produced a -1% difference so if a model's speed is important to the client, one decision tree would suffice within margin of error. Although for a large phone company, 1% could equal hundreds of thousands of dollars lost so it is up to the client to decide. "
   ]
  },
  {
   "cell_type": "markdown",
   "metadata": {},
   "source": [
    "<div class=\"alert alert-success\">\n",
    "    <b>Reviewer's comment – Iteration 1:</b><br>\n",
    "Nice and succinct analysis.\n",
    "</div>"
   ]
  },
  {
   "cell_type": "code",
   "execution_count": 26,
   "metadata": {},
   "outputs": [
    {
     "name": "stdout",
     "output_type": "stream",
     "text": [
      "0.7884914463452566\n"
     ]
    }
   ],
   "source": [
    "test_predictions = best_model.predict(features_test)\n",
    "test_accuracy = accuracy_score(target_test, test_predictions)\n",
    "print(test_accuracy)"
   ]
  },
  {
   "cell_type": "code",
   "execution_count": 28,
   "metadata": {},
   "outputs": [
    {
     "name": "stdout",
     "output_type": "stream",
     "text": [
      "Train Accuracy: 0.85\n",
      "Validation Accuracy: 0.77\n",
      "Test Accuracy: 0.79\n"
     ]
    }
   ],
   "source": [
    "# Checking for Overfitting\n",
    "\n",
    "train_score = best_model.score(features_train, target_train)\n",
    "val_score = best_model.score(features_val, target_val)\n",
    "test_score = best_model.score(features_test, target_test)\n",
    "\n",
    "print(f\"Train Accuracy: {train_score:.2f}\")\n",
    "print(f\"Validation Accuracy: {val_score:.2f}\")\n",
    "print(f\"Test Accuracy: {test_score:.2f}\")"
   ]
  },
  {
   "cell_type": "code",
   "execution_count": 29,
   "metadata": {},
   "outputs": [
    {
     "name": "stdout",
     "output_type": "stream",
     "text": [
      "Final Test Set Accuracy:\n",
      "Decision Tree (max_depth=7): 0.79\n",
      "Random Forest (n_estimators=10): 0.79\n",
      "Logistic Regression: 0.70\n"
     ]
    }
   ],
   "source": [
    "# Retrain best models using the best hyperparameters found earlier\n",
    "dt_model = DecisionTreeClassifier(random_state=12345, max_depth=best_model.max_depth)\n",
    "dt_model.fit(features_train, target_train)\n",
    "\n",
    "rf_model = RandomForestClassifier(random_state=12345, n_estimators=best_est)\n",
    "rf_model.fit(features_train, target_train)\n",
    "\n",
    "lr_model = LogisticRegression(random_state=12345, solver='liblinear')  # liblinear is good for small datasets\n",
    "lr_model.fit(features_train, target_train)\n",
    "\n",
    "# Predict on the test set\n",
    "dt_preds = dt_model.predict(features_test)\n",
    "rf_preds = rf_model.predict(features_test)\n",
    "lr_preds = lr_model.predict(features_test)\n",
    "\n",
    "# Calculate accuracy scores\n",
    "dt_acc = accuracy_score(target_test, dt_preds)\n",
    "rf_acc = accuracy_score(target_test, rf_preds)\n",
    "lr_acc = accuracy_score(target_test, lr_preds)\n",
    "\n",
    "# Print results\n",
    "print(\"Final Test Set Accuracy:\")\n",
    "print(f\"Decision Tree (max_depth={best_model.max_depth}): {dt_acc:.2f}\")\n",
    "print(f\"Random Forest (n_estimators={best_est}): {rf_acc:.2f}\")\n",
    "print(f\"Logistic Regression: {lr_acc:.2f}\")\n"
   ]
  },
  {
   "cell_type": "markdown",
   "metadata": {},
   "source": [
    "**Final Model Evaluation Summary**\n",
    "\n",
    "In this project, we explored user behavior data to predict whether a customer would choose the Ultra or Smart mobile plan (is_ultra). We split the dataset into training (60%), validation (20%), and test (20%) sets to ensure proper model evaluation and prevent data leakage.\n",
    "\n",
    "Three classification models were trained and compared:\n",
    "\n",
    "- Decision Tree Classifier\n",
    "\n",
    "- Random Forest Classifier\n",
    "\n",
    "- Logistic Regression\n",
    "\n",
    "Each model was tuned using the validation set:\n",
    "\n",
    "- The Decision Tree was optimized by varying max_depth\n",
    "\n",
    "- The Random Forest was optimized using different values for n_estimators\n",
    "\n",
    "- The Logistic Regression was used with default parameters\n",
    "\n",
    "After selecting the best version of each model, we evaluated their final performance on the unseen test set. Below are the accuracy results:\n",
    "\n",
    "Model\n",
    "- Decision Tree\t~79%\n",
    "- Random Forest\t~79%\n",
    "- Logistic Regression\t~70%\n",
    "\n",
    "The results show that both a Decision Tree and Random Forest achieved the highest equal accuracy on the test set, making it the most suitable model for deployment in this context. Future improvements could include feature engineering, balancing the dataset (if class imbalance exists), and cross-validation for more robust evaluation."
   ]
  },
  {
   "cell_type": "markdown",
   "metadata": {},
   "source": [
    "<div class=\"alert alert-success\">\n",
    "    <b>Reviewer's comment – Iteration 1:</b><br>\n",
    "Good analysis.\n",
    "</div>"
   ]
  },
  {
   "cell_type": "code",
   "execution_count": null,
   "metadata": {},
   "outputs": [],
   "source": []
  }
 ],
 "metadata": {
  "kernelspec": {
   "display_name": "Python 3 (ipykernel)",
   "language": "python",
   "name": "python3"
  },
  "language_info": {
   "codemirror_mode": {
    "name": "ipython",
    "version": 3
   },
   "file_extension": ".py",
   "mimetype": "text/x-python",
   "name": "python",
   "nbconvert_exporter": "python",
   "pygments_lexer": "ipython3",
   "version": "3.9.23"
  }
 },
 "nbformat": 4,
 "nbformat_minor": 4
}
