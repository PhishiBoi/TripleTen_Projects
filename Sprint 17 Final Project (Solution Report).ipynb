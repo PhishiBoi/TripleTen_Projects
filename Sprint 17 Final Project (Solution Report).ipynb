{
 "cells": [
  {
   "cell_type": "markdown",
   "metadata": {},
   "source": [
    "<div style=\"border:solid green 2px; padding: 20px\"> <h1 style=\"color:green; margin-bottom:20px\">Reviewers comment v1</h1>\n",
    "\n",
    "Hello Collin!\n",
    "\n",
    "I'm happy to review your project today 🙌\n",
    "\n",
    "My name is **Justino Imbert** ([this](https://hub.tripleten.com/u/125e88ae) is my Hub profile) and today I'll be reviewing your project!\n",
    "\n",
    "</div>\n",
    "\n",
    "<div class=\"alert alert-block alert-success\">\n",
    "    \n",
    "<b>Reviewer's comment v1:</b> </a>\n",
    "\n",
    "This submission looks exactly how it has to look like! Congrats and good luck!\n",
    "    \n",
    "</div>\n",
    "\n"
   ]
  },
  {
   "cell_type": "markdown",
   "metadata": {},
   "source": [
    "# Solution Report"
   ]
  },
  {
   "cell_type": "markdown",
   "metadata": {},
   "source": [
    "### What steps of the plan were performed and what steps were skipped (explain why)?"
   ]
  },
  {
   "cell_type": "markdown",
   "metadata": {},
   "source": [
    "In this task, most of the proposed steps were followed. I loaded the data, explored the data, came up with a solution that involved training multiple models, and executed with precision and efficiency. I was not able to use SMOTE as proposed due to coding environment permissions, but all other steps were followed as proposed."
   ]
  },
  {
   "cell_type": "markdown",
   "metadata": {},
   "source": [
    "<div class=\"alert alert-block alert-success\">\n",
    "<b>Reviewer's comment v1:</b> </a>\n",
    "\n",
    "Looking good! Nice summary!\n",
    "    \n",
    "</div>"
   ]
  },
  {
   "cell_type": "markdown",
   "metadata": {},
   "source": [
    "### What difficulties did you encounter and how did you manage to solve them?"
   ]
  },
  {
   "cell_type": "markdown",
   "metadata": {},
   "source": [
    "For me, the largest portion of time spent was 2-fold. I spent a lot of time searching documentation on how to construct all of my visuals, and also spent time referencing documentations for the machine learning models to explore all of the parameters available to create the best model. I felt very comfortable and confident finding these answers on my own witht the resources I was taught to use. "
   ]
  },
  {
   "cell_type": "markdown",
   "metadata": {},
   "source": [
    "<div class=\"alert alert-block alert-success\">\n",
    "<b>Reviewer's comment v1:</b> </a>\n",
    "\n",
    "Those are some pretty common difficulties in data science projects! Happy to continue seeing you get your hands dirty!\n",
    "    \n",
    "</div>"
   ]
  },
  {
   "cell_type": "markdown",
   "metadata": {},
   "source": [
    "### What were some of the key steps to solving the task?"
   ]
  },
  {
   "cell_type": "markdown",
   "metadata": {},
   "source": [
    "- Loading libraries\n",
    "- Loading and merging datasets\n",
    "- Handling missing values\n",
    "- Converting data types\n",
    "- Creating features and targets\n",
    "- Splitting the data into training, validation, and test sets\n",
    "- Creating machine learning models and running evaluation metrics\n",
    "- Comparing those results and factoring all variables into which model would be best for accuracy and efficiency\n",
    "- Reporting findings"
   ]
  },
  {
   "cell_type": "markdown",
   "metadata": {},
   "source": [
    "<div class=\"alert alert-block alert-success\">\n",
    "<b>Reviewer's comment v1:</b> </a>\n",
    "\n",
    "Exactly how it has to look like!\n",
    "    \n",
    "</div>"
   ]
  },
  {
   "cell_type": "markdown",
   "metadata": {},
   "source": [
    "### What is your final model and what quality score does it have?"
   ]
  },
  {
   "cell_type": "markdown",
   "metadata": {},
   "source": [
    "The following models were trained and their ROC-AUC scores on the test set are reported.\n",
    "\n",
    "- HistGradientBoosting - ROC-AUC ~0.93\n",
    "- CatBoost - ROC-AUC ~0.91\n",
    "- XGBoost - ROC-AUC ~0.84\n",
    "\n",
    "Based on these results, I would recommend using a HisGradientBoosting model with tuned hyperparameters."
   ]
  },
  {
   "cell_type": "markdown",
   "metadata": {},
   "source": [
    "<div class=\"alert alert-block alert-success\">\n",
    "<b>Reviewer's comment v1:</b> </a>\n",
    "\n",
    "Nice concise summary!\n",
    "    \n",
    "</div>"
   ]
  }
 ],
 "metadata": {
  "kernelspec": {
   "display_name": "Python 3 (ipykernel)",
   "language": "python",
   "name": "python3"
  },
  "language_info": {
   "codemirror_mode": {
    "name": "ipython",
    "version": 3
   },
   "file_extension": ".py",
   "mimetype": "text/x-python",
   "name": "python",
   "nbconvert_exporter": "python",
   "pygments_lexer": "ipython3",
   "version": "3.9.23"
  }
 },
 "nbformat": 4,
 "nbformat_minor": 4
}
