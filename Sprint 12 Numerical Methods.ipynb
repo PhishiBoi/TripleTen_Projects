{
 "cells": [
  {
   "cell_type": "markdown",
   "metadata": {},
   "source": [
    "<div style=\"border: 5px solid purple; padding: 10px; margin: 5px\">\n",
    "<b> Svetlana's comment 3 </b>\n",
    "\n",
    "\n",
    "Thank you for the updates! You can find my new comment with digit 3. You did a great job here! You learned how to build and evaluate models to predict used car prices. You have successfully conducted EDA, handled missing values and outliers. You trained and tuned several models, compared their RMSE and speed, and chose the best model for the final testing. You learned how to prepare and encode large data and how to weigh training speed vs. prediction error, and why this matters in real-world applications. I hope you enjoyed this project! I do not have any questions, so the project can be accepted. \n",
    "\n",
    "\n",
    "\n",
    "\n",
    "Good luck! \n",
    "\n",
    "    \n",
    "</div>"
   ]
  },
  {
   "cell_type": "markdown",
   "metadata": {},
   "source": [
    "<div style=\"border: 5px solid purple; padding: 10px; margin: 5px\">\n",
    "<b> Reviewer's comment 2 </b>\n",
    "    \n",
    "\n",
    "Thank you for submitting the project! I appreciate the time you took to update it!  I've left a couple of new comments titled as **Reviewer's comment 2**. Would you please take a look? \n",
    "\n",
    "    \n",
    "</div>"
   ]
  },
  {
   "cell_type": "markdown",
   "metadata": {},
   "source": [
    "<div style=\"border: 5px solid purple; padding: 10px; margin: 5px\">\n",
    "<b>   Svetlana's comment  </b>\n",
    "      \n",
    "Hi Collin, my name is Svetlana (https://hub.tripleten.com/u/6dee602c). Congratulations on submitting another project! 🎉 I will be using the standard the color marking:\n",
    "    \n",
    "\n",
    "   \n",
    "    \n",
    "<div style=\"border: 5px solid green; padding: 10px; margin: 5px\">\n",
    "\n",
    "Great solutions and ideas that can and should be used in the future are in green comments. Some of them are: \n",
    "    \n",
    "    \n",
    "- You have successfully prepared 2 subsets. It is important to split the data correctly in order to ensure there's no intersection;    \n",
    "    \n",
    "  \n",
    "    \n",
    "- Excluded irrelevant columns to reduce computational cost;\n",
    "    \n",
    "    \n",
    "- Encoded cetegorical columns;    \n",
    "\n",
    "    \n",
    "- Trained and compared several models, great!\n",
    "\n",
    "\n",
    "    \n",
    "- Wrote an excellent conclusion! A well-written conclusion shows how the project met its objectives and provides a concise and understandable summary for those who may not have been involved in the details of the project. Good job! \n",
    "\n",
    "</div>\n",
    "    \n",
    "<div style=\"border: 5px solid gold; padding: 10px; margin: 5px\">\n",
    "<b> Reviewer's comment </b>\n",
    "\n",
    "Yellow color indicates what should be optimized. This is not necessary, but it will be great if you make changes to this project. I've left several recommendations throughout the project. Please take a look.\n",
    " \n",
    "</div>\n",
    "<div style=\"border: 5px solid red; padding: 10px; margin: 5px\">\n",
    "<b> Reviewer's comment </b>\n",
    "\n",
    "Issues that must be corrected to achieve accurate results are indicated in red comments. Please note that the project cannot be accepted until these issues are resolved. For instance,\n",
    "\n",
    "\n",
    "    \n",
    "- Check the data for the duplicates after you drop columns. If a dropped column contained unique values (ID or timestamp), removing it may make multiple rows appear the same;\n",
    "\n",
    "\n",
    "\n",
    "- Please explore distributions. Are there any outliers?\n",
    "\n",
    "\n",
    "- We have too many gaps to drop them. Instead, consider replacing them with some unique value, such as \"Unknown\". It is normal that sometimes sellers do not specify some information. The model should \"know\" about such cases. \n",
    "\n",
    "\n",
    "    \n",
    "- According to the task, we are supposed to measure models' training and prediction speed. Would you please measure them separately for each model?\n",
    "\n",
    "\n",
    "There may be other issues that need your attention. I described everything in my comments.  \n",
    "</div>        \n",
    "<hr>\n",
    "    \n",
    "<font color='dodgerblue'>**To sum up:**</font> great job here! You demonstrated strong analytical and modeling skills by preparing the data, experimenting with multiple advanced models, and evaluating them with appropriate metrics. The conclusion clearly communicates which model offers the best trade-off between speed and RMSE. There are several issues that need your attention. Please take a look at my comments and do not hesitate to ask questions if some of them seem unclear. I will wait the project for the second review 😊 \n",
    "    \n",
    "\n",
    "<hr>\n",
    "    \n",
    "Please use some color other than those listed to highlight answers to my comments.\n",
    "I would also ask you **not to change, move or delete my comments** to make it easier for me to navigate during the next review.\n",
    "    \n",
    "<hr> \n",
    "    \n",
    "✍️ Some notes:\n",
    "\n",
    "Here's a link to [Supervised Learning documenation sections](https://scikit-learn.org/stable/supervised_learning.html) that you may find useful.\n",
    "\n",
    "<hr>\n",
    "    \n",
    "    \n",
    "📌 Please feel free to schedule a 1:1 sessions with our tutors or TAs Feel free to book 1-1 session [here](https://calendly.com/tripleten-ds-experts-team), join daily coworking sessions, or ask questions on TripleTen Hub if you need assistance 😉 \n",
    "</div>"
   ]
  },
  {
   "cell_type": "markdown",
   "metadata": {},
   "source": [
    "Rusty Bargain used car sales service is developing an app to attract new customers. In that app, you can quickly find out the market value of your car. You have access to historical data: technical specifications, trim versions, and prices. You need to build the model to determine the value. \n",
    "\n",
    "Rusty Bargain is interested in:\n",
    "\n",
    "- the quality of the prediction;\n",
    "- the speed of the prediction;\n",
    "- the time required for training"
   ]
  },
  {
   "cell_type": "markdown",
   "metadata": {},
   "source": [
    "## Data preparation"
   ]
  },
  {
   "cell_type": "code",
   "execution_count": 1,
   "metadata": {},
   "outputs": [],
   "source": [
    "import pandas as pd\n",
    "import numpy as np\n",
    "from sklearn.model_selection import train_test_split\n",
    "from sklearn.linear_model import LinearRegression\n",
    "from sklearn.tree import DecisionTreeRegressor\n",
    "from sklearn.ensemble import RandomForestRegressor\n",
    "from sklearn.metrics import mean_squared_error, r2_score\n",
    "from sklearn.compose import ColumnTransformer\n",
    "from sklearn.preprocessing import OneHotEncoder\n",
    "from sklearn.pipeline import Pipeline\n",
    "from lightgbm import LGBMRegressor\n",
    "from xgboost import XGBRegressor\n",
    "from catboost import CatBoostRegressor\n",
    "import time\n",
    "import matplotlib.pyplot as plt"
   ]
  },
  {
   "cell_type": "code",
   "execution_count": 2,
   "metadata": {},
   "outputs": [
    {
     "name": "stdout",
     "output_type": "stream",
     "text": [
      "        DateCrawled  Price  VehicleType  RegistrationYear Gearbox  Power  \\\n",
      "0  24/03/2016 11:52    480          NaN              1993  manual      0   \n",
      "1  24/03/2016 10:58  18300        coupe              2011  manual    190   \n",
      "2  14/03/2016 12:52   9800          suv              2004    auto    163   \n",
      "3  17/03/2016 16:54   1500        small              2001  manual     75   \n",
      "4  31/03/2016 17:25   3600        small              2008  manual     69   \n",
      "5  04/04/2016 17:36    650        sedan              1995  manual    102   \n",
      "6  01/04/2016 20:48   2200  convertible              2004  manual    109   \n",
      "7  21/03/2016 18:54      0        sedan              1980  manual     50   \n",
      "8  04/04/2016 23:42  14500          bus              2014  manual    125   \n",
      "9  17/03/2016 10:53    999        small              1998  manual    101   \n",
      "\n",
      "     Model  Mileage  RegistrationMonth  FuelType       Brand NotRepaired  \\\n",
      "0     golf   150000                  0    petrol  volkswagen         NaN   \n",
      "1      NaN   125000                  5  gasoline        audi         yes   \n",
      "2    grand   125000                  8  gasoline        jeep         NaN   \n",
      "3     golf   150000                  6    petrol  volkswagen          no   \n",
      "4    fabia    90000                  7  gasoline       skoda          no   \n",
      "5      3er   150000                 10    petrol         bmw         yes   \n",
      "6  2_reihe   150000                  8    petrol     peugeot          no   \n",
      "7    other    40000                  7    petrol  volkswagen          no   \n",
      "8    c_max    30000                  8    petrol        ford         NaN   \n",
      "9     golf   150000                  0       NaN  volkswagen         NaN   \n",
      "\n",
      "        DateCreated  NumberOfPictures  PostalCode          LastSeen  \n",
      "0  24/03/2016 00:00                 0       70435  07/04/2016 03:16  \n",
      "1  24/03/2016 00:00                 0       66954  07/04/2016 01:46  \n",
      "2  14/03/2016 00:00                 0       90480  05/04/2016 12:47  \n",
      "3  17/03/2016 00:00                 0       91074  17/03/2016 17:40  \n",
      "4  31/03/2016 00:00                 0       60437  06/04/2016 10:17  \n",
      "5  04/04/2016 00:00                 0       33775  06/04/2016 19:17  \n",
      "6  01/04/2016 00:00                 0       67112  05/04/2016 18:18  \n",
      "7  21/03/2016 00:00                 0       19348  25/03/2016 16:47  \n",
      "8  04/04/2016 00:00                 0       94505  04/04/2016 23:42  \n",
      "9  17/03/2016 00:00                 0       27472  31/03/2016 17:17  \n",
      "\n",
      "<class 'pandas.core.frame.DataFrame'>\n",
      "RangeIndex: 354369 entries, 0 to 354368\n",
      "Data columns (total 16 columns):\n",
      " #   Column             Non-Null Count   Dtype \n",
      "---  ------             --------------   ----- \n",
      " 0   DateCrawled        354369 non-null  object\n",
      " 1   Price              354369 non-null  int64 \n",
      " 2   VehicleType        316879 non-null  object\n",
      " 3   RegistrationYear   354369 non-null  int64 \n",
      " 4   Gearbox            334536 non-null  object\n",
      " 5   Power              354369 non-null  int64 \n",
      " 6   Model              334664 non-null  object\n",
      " 7   Mileage            354369 non-null  int64 \n",
      " 8   RegistrationMonth  354369 non-null  int64 \n",
      " 9   FuelType           321474 non-null  object\n",
      " 10  Brand              354369 non-null  object\n",
      " 11  NotRepaired        283215 non-null  object\n",
      " 12  DateCreated        354369 non-null  object\n",
      " 13  NumberOfPictures   354369 non-null  int64 \n",
      " 14  PostalCode         354369 non-null  int64 \n",
      " 15  LastSeen           354369 non-null  object\n",
      "dtypes: int64(7), object(9)\n",
      "memory usage: 43.3+ MB\n",
      "None\n"
     ]
    }
   ],
   "source": [
    "data = pd.read_csv('/datasets/car_data.csv')\n",
    "print(data.head(10))\n",
    "print()\n",
    "print(data.info())"
   ]
  },
  {
   "cell_type": "markdown",
   "metadata": {},
   "source": [
    "<div style=\"border: 5px solid gold; padding: 15px; margin: 5px\">\n",
    "<b>   Reviewer's comment  </b>\n",
    "    \n",
    "\n",
    "Consider using `display` instead of `print` with dataframes :) The output will look better.\n",
    "\n",
    "\n",
    "\n",
    "</div>"
   ]
  },
  {
   "cell_type": "markdown",
   "metadata": {},
   "source": [
    "**First Observations**\n",
    "\n",
    "- Some columns are not necessary for model training so we will remove them from our training set\n",
    "- Some rows include missing data, so we will remove them. We are still left with over 200,000 rows of data to use, so it is not a problem.\n",
    "- Because we are including columns with categorical data, we will need to use encoding to turn these into numerical columns."
   ]
  },
  {
   "cell_type": "code",
   "execution_count": 3,
   "metadata": {},
   "outputs": [
    {
     "name": "stdout",
     "output_type": "stream",
     "text": [
      "<class 'pandas.core.frame.DataFrame'>\n",
      "RangeIndex: 354369 entries, 0 to 354368\n",
      "Data columns (total 10 columns):\n",
      " #   Column            Non-Null Count   Dtype \n",
      "---  ------            --------------   ----- \n",
      " 0   Price             354369 non-null  int64 \n",
      " 1   VehicleType       316879 non-null  object\n",
      " 2   RegistrationYear  354369 non-null  int64 \n",
      " 3   Gearbox           334536 non-null  object\n",
      " 4   Power             354369 non-null  int64 \n",
      " 5   Model             334664 non-null  object\n",
      " 6   Mileage           354369 non-null  int64 \n",
      " 7   FuelType          321474 non-null  object\n",
      " 8   Brand             354369 non-null  object\n",
      " 9   NotRepaired       283215 non-null  object\n",
      "dtypes: int64(4), object(6)\n",
      "memory usage: 27.0+ MB\n",
      "None\n",
      "\n",
      "45040\n",
      "        Price VehicleType  RegistrationYear Gearbox  Power     Model  Mileage  \\\n",
      "1117      950       small              1999  manual     60      polo   150000   \n",
      "1396        0         NaN              2000     NaN      0       NaN   150000   \n",
      "2169        0       coupe              2002  manual    129  c_klasse   150000   \n",
      "2833     1499       small              2001  manual     58     corsa   150000   \n",
      "3025     2800       wagon              2005     NaN      0    touran   150000   \n",
      "...       ...         ...               ...     ...    ...       ...      ...   \n",
      "354352   6500       sedan              2003    auto    145  e_klasse   150000   \n",
      "354355   4400       sedan              2008  manual    105      leon   150000   \n",
      "354358   1490       small              1998  manual     50      lupo   150000   \n",
      "354359   7900       sedan              2010  manual    140      golf   150000   \n",
      "354363   1150         bus              2000  manual      0    zafira   150000   \n",
      "\n",
      "        FuelType          Brand NotRepaired  \n",
      "1117      petrol     volkswagen          no  \n",
      "1396         NaN          volvo         NaN  \n",
      "2169      petrol  mercedes_benz          no  \n",
      "2833      petrol           opel          no  \n",
      "3025    gasoline     volkswagen          no  \n",
      "...          ...            ...         ...  \n",
      "354352  gasoline  mercedes_benz          no  \n",
      "354355  gasoline           seat          no  \n",
      "354358    petrol     volkswagen          no  \n",
      "354359  gasoline     volkswagen          no  \n",
      "354363    petrol           opel          no  \n",
      "\n",
      "[45040 rows x 10 columns]\n",
      "0\n",
      "<class 'pandas.core.frame.DataFrame'>\n",
      "Int64Index: 309329 entries, 0 to 354368\n",
      "Data columns (total 10 columns):\n",
      " #   Column            Non-Null Count   Dtype \n",
      "---  ------            --------------   ----- \n",
      " 0   Price             309329 non-null  int64 \n",
      " 1   VehicleType       274770 non-null  object\n",
      " 2   RegistrationYear  309329 non-null  int64 \n",
      " 3   Gearbox           292122 non-null  object\n",
      " 4   Power             309329 non-null  int64 \n",
      " 5   Model             290968 non-null  object\n",
      " 6   Mileage           309329 non-null  int64 \n",
      " 7   FuelType          278565 non-null  object\n",
      " 8   Brand             309329 non-null  object\n",
      " 9   NotRepaired       244771 non-null  object\n",
      "dtypes: int64(4), object(6)\n",
      "memory usage: 26.0+ MB\n",
      "None\n"
     ]
    }
   ],
   "source": [
    "# Removal of unnecessary columns that don't apply directly to the vehicle itself\n",
    "\n",
    "irrelevant_columns = ['DateCrawled', 'RegistrationMonth', 'DateCreated', 'PostalCode', 'LastSeen', 'NumberOfPictures']\n",
    "\n",
    "data = data.drop(irrelevant_columns, axis=1)\n",
    "print(data.info())\n",
    "print()\n",
    "print(data.duplicated().sum())\n",
    "print(data[data.duplicated()])\n",
    "data = data.drop_duplicates()\n",
    "print(data.duplicated().sum())\n",
    "print(data.info())"
   ]
  },
  {
   "cell_type": "markdown",
   "metadata": {},
   "source": [
    "<div style=\"border: 5px solid green; padding: 10px; margin: 5px\">\n",
    "<b>   Reviewer's comment </b>\n",
    "    \n",
    "Agreed! We don't need these columns. \n",
    "    \n",
    "</div>\n",
    "<div style=\"border: 5px solid red; padding: 10px; margin: 5px\">\n",
    "<b>   Reviewer's comment </b>\n",
    "   \n",
    "After removing unnecessary columns, it makes sense to check the data for duplicates again, as the dataset will later be splitted into training and test sets. Removing specific columns can cause previously distinct rows to become identical. If a dropped column contained unique values (ID or timestamp), removing it may make multiple rows appear the same.   \n",
    "   \n",
    "</div>"
   ]
  },
  {
   "cell_type": "markdown",
   "metadata": {},
   "source": [
    "<div style=\"border: 5px solid blue; padding: 10px; margin: 5px\">\n",
    "<b>   Student's comment </b>\n",
    "    \n",
    "Fixed! \n",
    "\n",
    "</div>"
   ]
  },
  {
   "cell_type": "markdown",
   "metadata": {},
   "source": [
    "<div style=\"border: 5px solid green; padding: 15px; margin: 5px\">\n",
    "<b>   Reviewer's comment 2 </b>\n",
    "    \n",
    "    \n",
    "Great! \n",
    "\n",
    "</div>"
   ]
  },
  {
   "cell_type": "code",
   "execution_count": 4,
   "metadata": {},
   "outputs": [
    {
     "name": "stdout",
     "output_type": "stream",
     "text": [
      "<class 'pandas.core.frame.DataFrame'>\n",
      "Int64Index: 309329 entries, 0 to 354368\n",
      "Data columns (total 10 columns):\n",
      " #   Column            Non-Null Count   Dtype \n",
      "---  ------            --------------   ----- \n",
      " 0   Price             309329 non-null  int64 \n",
      " 1   VehicleType       309329 non-null  object\n",
      " 2   RegistrationYear  309329 non-null  int64 \n",
      " 3   Gearbox           309329 non-null  object\n",
      " 4   Power             309329 non-null  int64 \n",
      " 5   Model             309329 non-null  object\n",
      " 6   Mileage           309329 non-null  int64 \n",
      " 7   FuelType          309329 non-null  object\n",
      " 8   Brand             309329 non-null  object\n",
      " 9   NotRepaired       309329 non-null  object\n",
      "dtypes: int64(4), object(6)\n",
      "memory usage: 26.0+ MB\n",
      "None\n",
      "\n",
      "               Price  RegistrationYear          Power        Mileage\n",
      "count  309329.000000     309329.000000  309329.000000  309329.000000\n",
      "mean     4486.937196       2004.360105     110.976908  127217.735809\n",
      "std      4564.852796         92.541399     200.969473   38532.941010\n",
      "min         0.000000       1000.000000       0.000000    5000.000000\n",
      "25%      1100.000000       1999.000000      69.000000  125000.000000\n",
      "50%      2800.000000       2003.000000     105.000000  150000.000000\n",
      "75%      6500.000000       2008.000000     143.000000  150000.000000\n",
      "max     20000.000000       9999.000000   20000.000000  150000.000000\n"
     ]
    }
   ],
   "source": [
    "#Drop rows with missing data\n",
    "\n",
    "data.fillna('Unknown', inplace=True)\n",
    "print(data.info())\n",
    "print()\n",
    "print(data.describe())"
   ]
  },
  {
   "cell_type": "code",
   "execution_count": 5,
   "metadata": {},
   "outputs": [
    {
     "data": {
      "image/png": "[encoded data removed]",
      "text/plain": [
       "<Figure size 600x400 with 1 Axes>"
      ]
     },
     "metadata": {},
     "output_type": "display_data"
    },
    {
     "data": {
      "image/png": "[encoded data removed]",
      "text/plain": [
       "<Figure size 600x400 with 1 Axes>"
      ]
     },
     "metadata": {},
     "output_type": "display_data"
    },
    {
     "data": {
      "image/png": "[encoded data removed]",
      "text/plain": [
       "<Figure size 600x400 with 1 Axes>"
      ]
     },
     "metadata": {},
     "output_type": "display_data"
    },
    {
     "data": {
      "image/png": "[encoded data removed]",
      "text/plain": [
       "<Figure size 600x400 with 1 Axes>"
      ]
     },
     "metadata": {},
     "output_type": "display_data"
    }
   ],
   "source": [
    "\n",
    "# Select only numeric columns\n",
    "numeric_cols = data.select_dtypes(include=['int64', 'float64']).columns\n",
    "numeric_cols = list(numeric_cols)\n",
    "\n",
    "# Create boxplots\n",
    "for col in numeric_cols:\n",
    "    plt.figure(figsize=(6, 4))\n",
    "    plt.boxplot(data[col].dropna())\n",
    "    plt.title(f'Boxplot of {col}')\n",
    "    plt.show()\n",
    "\n",
    "\n"
   ]
  },
  {
   "cell_type": "code",
   "execution_count": 6,
   "metadata": {},
   "outputs": [],
   "source": [
    "def drop_outliers_iqr(df, column):\n",
    "    Q1 = df[column].quantile(0.25)\n",
    "    Q3 = df[column].quantile(0.75)\n",
    "    IQR = Q3 - Q1\n",
    "\n",
    "    lower_bound = Q1 - 1.5 * IQR\n",
    "    upper_bound = Q3 + 1.5 * IQR\n",
    "\n",
    "    return df[(df[column] >= lower_bound) & (df[column] <= upper_bound)]\n",
    "\n",
    "data = drop_outliers_iqr(data, 'Price')\n",
    "data = drop_outliers_iqr(data, 'RegistrationYear')\n",
    "data = drop_outliers_iqr(data, 'Power')"
   ]
  },
  {
   "cell_type": "code",
   "execution_count": 7,
   "metadata": {},
   "outputs": [
    {
     "data": {
      "image/png": "[encoded data removed]",
      "text/plain": [
       "<Figure size 600x400 with 1 Axes>"
      ]
     },
     "metadata": {},
     "output_type": "display_data"
    },
    {
     "data": {
      "image/png": "[encoded data removed]",
      "text/plain": [
       "<Figure size 600x400 with 1 Axes>"
      ]
     },
     "metadata": {},
     "output_type": "display_data"
    },
    {
     "data": {
      "image/png": "[encoded data removed]",
      "text/plain": [
       "<Figure size 600x400 with 1 Axes>"
      ]
     },
     "metadata": {},
     "output_type": "display_data"
    }
   ],
   "source": [
    "# Select only numeric columns\n",
    "numeric_cols = data[['Price', 'Power', 'RegistrationYear']]\n",
    "\n",
    "# Create boxplots\n",
    "for col in numeric_cols:\n",
    "    plt.figure(figsize=(6, 4))\n",
    "    plt.boxplot(data[col].dropna())\n",
    "    plt.title(f'Boxplot of {col}')\n",
    "    plt.show()\n",
    "\n",
    "\n"
   ]
  },
  {
   "cell_type": "markdown",
   "metadata": {},
   "source": [
    "<div style=\"border: 5px solid red; padding: 15px; margin: 5px\">\n",
    "<b> Reviewer's comment</b>\n",
    "    \n",
    "- Let's not drop so many rows :) Instead, replace missing values with some unique row, such as \"Unknown\". Moreover, it is normal that sometimes sellers do not specify some information. The model should \"know\" about such cases.\n",
    "\n",
    "\n",
    "\n",
    "- Are there any outliers in the data?  Please call the `describe` method and display charts. Drop abnormal values if they exist. Hint: `year`, `price`, and `power` columns definitely have outliers. Look at the lower and upper boundaries. \n",
    "\n",
    "\n",
    "\n",
    "</div>\n",
    "<div style=\"border: 5px solid gold; padding: 10px; margin: 5px\">\n",
    "<b>   Reviewer's comment </b>\n",
    "\n",
    "Consider analyzing categories as well. Petrol and gasoline refer to the same fuel, so we can use one of these categories. There are also some rare model categories that can be dropped. If a category appears only in the training or validation subset, for instance, and we use `handle_unknown='ignore'`, the linear model might miss important signals in validation or make predictions with incomplete features thus breaking the assumptions of linearity. It may be helpful to make sure that training and validation subsets use the same feature columns after encoding. \n",
    "</div>"
   ]
  },
  {
   "cell_type": "markdown",
   "metadata": {},
   "source": [
    "<div style=\"border: 5px solid blue; padding: 10px; margin: 5px\">\n",
    "<b>   Student's comment </b>\n",
    "    \n",
    "Fixed! \n",
    "\n",
    "</div>"
   ]
  },
  {
   "cell_type": "markdown",
   "metadata": {},
   "source": [
    "<div style=\"border: 5px solid green; padding: 15px; margin: 5px\">\n",
    "<b>   Reviewer's comment 2 </b>\n",
    "    \n",
    "Excellent! Why is this important? In real-world problems, the data is rarely clean. Displaying distributions help us evaluate the data, find outliers, identify the required preprocessing steps and understand feature relationships, which informs feature engineering. Feature engineering in some cases is a clue.    \n",
    "</div>"
   ]
  },
  {
   "cell_type": "code",
   "execution_count": 8,
   "metadata": {},
   "outputs": [
    {
     "name": "stdout",
     "output_type": "stream",
     "text": [
      "   Price  RegistrationYear  Power  Mileage  VehicleType_bus  \\\n",
      "0    480              1993      0   150000                0   \n",
      "2   9800              2004    163   125000                0   \n",
      "3   1500              2001     75   150000                0   \n",
      "4   3600              2008     69    90000                0   \n",
      "5    650              1995    102   150000                0   \n",
      "\n",
      "   VehicleType_convertible  VehicleType_coupe  VehicleType_other  \\\n",
      "0                        0                  0                  0   \n",
      "2                        0                  0                  0   \n",
      "3                        0                  0                  0   \n",
      "4                        0                  0                  0   \n",
      "5                        0                  0                  0   \n",
      "\n",
      "   VehicleType_sedan  VehicleType_small  ...  Brand_smart  \\\n",
      "0                  0                  0  ...            0   \n",
      "2                  0                  0  ...            0   \n",
      "3                  0                  1  ...            0   \n",
      "4                  0                  1  ...            0   \n",
      "5                  1                  0  ...            0   \n",
      "\n",
      "   Brand_sonstige_autos  Brand_subaru  Brand_suzuki  Brand_toyota  \\\n",
      "0                     0             0             0             0   \n",
      "2                     0             0             0             0   \n",
      "3                     0             0             0             0   \n",
      "4                     0             0             0             0   \n",
      "5                     0             0             0             0   \n",
      "\n",
      "   Brand_trabant  Brand_volkswagen  Brand_volvo  NotRepaired_no  \\\n",
      "0              0                 1            0               0   \n",
      "2              0                 0            0               0   \n",
      "3              0                 1            0               1   \n",
      "4              0                 0            0               1   \n",
      "5              0                 0            0               0   \n",
      "\n",
      "   NotRepaired_yes  \n",
      "0                0  \n",
      "2                0  \n",
      "3                0  \n",
      "4                0  \n",
      "5                1  \n",
      "\n",
      "[5 rows x 309 columns]\n"
     ]
    }
   ],
   "source": [
    "# Perform OHE\n",
    "\n",
    "data_ohe = pd.get_dummies(data, drop_first=True)\n",
    "print(data_ohe.head())"
   ]
  },
  {
   "cell_type": "markdown",
   "metadata": {},
   "source": [
    "<div style=\"border: 5px solid green; padding: 15px; margin: 5px\">\n",
    "<b>   Reviewer's comment </b>\n",
    "    \n",
    "Yes, we need to encode data here, well done! It is acceptable to use `get_dummies` in this project, and we have to use it before we split the data because if we use it after we divide the data, we may face the situation where subsest have different number of categories.\n",
    "    \n",
    "</div>\n",
    "<div style=\"border: 5px solid gold; padding: 15px; margin: 5px\">\n",
    "<b>   Reviewer's comment </b>\n",
    "\n",
    "\n",
    "- If the columns we want to convert are not explicitly specified, `get_dummies` will convert all columns with categorical strings, which may lead to unexpected results if some numeric columns also contain categorical data represented in numerical form (if there's a numerical category displayed as [1, 2, 3, 2, ... ]).\n",
    "\n",
    "\n",
    "    \n",
    "- Please note that `OneHotEncoder(handle_unknown='ignore')` or `OrdinalEncoder(handle_unknown='use_encoded_value', unknown_value=-1)` are generally more robust than `get_dummies` because they can handle situations where test subset has features that were not available during training. [Difference between OneHotEncoder and get_dummies](https://pythonsimplified.com/difference-between-onehotencoder-and-get_dummies/). \n",
    "    \n",
    "    \n",
    "    \n",
    "For tree-based models, `OrdinalEncoder` is a better choice because of computational cost. For boosting algorithms, we can rely on internal encoders that usually perform even better than external ones. For `CatBoost`, this is controlled by the `cat_features` parameter. For `LightGBM`, you can convert categorical features to the category type, allowing the model to handle them automatically.\n",
    "    \n",
    "   \n",
    "\n",
    "    \n",
    "`OrdinalEncoder()` or `LabelEncoder()` should not be used with linear models if there's no ordinal relationship. [How and When to Use Ordinal Encoder](https://leochoi146.medium.com/how-and-when-to-use-ordinal-encoder-d8b0ef90c28c). For linear regresison, I recommend using `OneHotEncoder(handle_unknown='ignore')`. \n",
    "\n",
    "\n",
    "If you decide to use any of these methods, please encode data **after** you split it. \n",
    "\n",
    "    \n",
    "    \n",
    "    \n",
    "For instance, you can use `Ordinal` for Forest and Tree, `OneHotEncoder` for Lin. Regression and categorical data types for boosting models.\n",
    "</div>\n",
    "\n"
   ]
  },
  {
   "cell_type": "code",
   "execution_count": 9,
   "metadata": {},
   "outputs": [],
   "source": [
    "#split data into training and validation sets\n",
    "\n",
    "features = data_ohe.drop('Price', axis=1)\n",
    "target = data_ohe['Price']\n",
    "\n",
    "features_train, features_valid, target_train, target_valid = train_test_split(features, target, test_size = 0.25, random_state=42)"
   ]
  },
  {
   "cell_type": "markdown",
   "metadata": {},
   "source": [
    "<div style=\"border: 5px solid gold; padding: 10px; margin: 5px\">\n",
    "<b> Reviewer's comment</b>\n",
    "    \n",
    "Consider saving at least one subset for the final testing. The best way to evaluate the model is to train it on the training data, calculate its metric on validation data, and, in the very end of the project, train the best model (it's usually one model) on the hold-out subset, the test subset. In this case, we need 3 subsets. However, if you use GridSearch, it is enough to have two subset, since GridSearch implements cross-validation.\n",
    "</div>"
   ]
  },
  {
   "cell_type": "markdown",
   "metadata": {},
   "source": [
    "## Model training"
   ]
  },
  {
   "cell_type": "code",
   "execution_count": 10,
   "metadata": {},
   "outputs": [
    {
     "name": "stdout",
     "output_type": "stream",
     "text": [
      "CPU times: user 8.76 s, sys: 3.57 s, total: 12.3 s\n",
      "Wall time: 6.45 s\n"
     ]
    },
    {
     "data": {
      "text/plain": [
       "LinearRegression()"
      ]
     },
     "execution_count": 10,
     "metadata": {},
     "output_type": "execute_result"
    }
   ],
   "source": [
    "%%time\n",
    "# Linear Regression\n",
    "\n",
    "model = LinearRegression()\n",
    "model.fit(features_train, target_train)"
   ]
  },
  {
   "cell_type": "code",
   "execution_count": 11,
   "metadata": {},
   "outputs": [
    {
     "name": "stdout",
     "output_type": "stream",
     "text": [
      "Linear Regression RMSE:  2100.6319321225697\n",
      "CPU times: user 146 ms, sys: 107 ms, total: 253 ms\n",
      "Wall time: 184 ms\n"
     ]
    }
   ],
   "source": [
    "%%time\n",
    "predict_valid = model.predict(features_valid)\n",
    "\n",
    "RMSE = mean_squared_error(target_valid, predict_valid, squared=False)\n",
    "print('Linear Regression RMSE: ', RMSE)"
   ]
  },
  {
   "cell_type": "markdown",
   "metadata": {},
   "source": [
    "<div style=\"border: 5px solid gold; padding: 10px; margin: 5px\">\n",
    "<b> Reviewer's comment 3</b>\n",
    "    \n",
    "When estimating a specific piece of code (fitting the model or making a prediction), I recommend that you don't include creating a model or calculating the metric value in this measurement, since these actions also take time. It's better to estimate the training time only:\n",
    "    \n",
    "    \n",
    "```python\n",
    "start_time = time.time()\n",
    "predict_valid = model.predict(features_valid)\n",
    "end_time = time.time()  \n",
    "```\n",
    "    \n",
    "</div>"
   ]
  },
  {
   "cell_type": "markdown",
   "metadata": {},
   "source": [
    "<div style=\"border: 5px solid green; padding: 15px; margin: 5px\">\n",
    "<b>   Reviewer's comment 2 </b>\n",
    "    \n",
    "Yes, you can do it this way. \n",
    "\n",
    "</div>\n",
    "<div style=\"border: 5px solid red; padding: 15px; margin: 5px\">\n",
    "<b>   Reviewer's comment 2 </b>\n",
    "    \n",
    "However, please note that this is not just training time but the time it takes to run the whole cell. \n",
    "</div>"
   ]
  },
  {
   "cell_type": "code",
   "execution_count": 12,
   "metadata": {},
   "outputs": [
    {
     "name": "stdout",
     "output_type": "stream",
     "text": [
      "Baseline RMSE: 3487.5424032769165\n"
     ]
    }
   ],
   "source": [
    "baseline_pred = np.full_like(target_valid, target_train.mean(), dtype=np.float64)\n",
    "baseline_rmse = mean_squared_error(target_valid, baseline_pred, squared=False)\n",
    "print(\"Baseline RMSE:\", baseline_rmse)"
   ]
  },
  {
   "cell_type": "markdown",
   "metadata": {},
   "source": [
    "<div style=\"border: 5px solid red; padding: 15px; margin: 5px\">\n",
    "<b> Reviewer's comment</b>\n",
    "    \n",
    "One of the main goals here is to compare models' training and prediction speed. Would you please estimate them separately for each of the models? \n",
    "\n",
    "You can do it as follows: \n",
    "\n",
    "\n",
    "```python\n",
    "start_time = time.time()\n",
    "model.fit(X_train, y_train)\n",
    "end_time1 = time.time()  \n",
    "\n",
    "\n",
    "start_time = time.time()\n",
    "model.predict(X_valid, y_valid)\n",
    "end_time2 = time.time()  \n",
    "\n",
    "```\n",
    "\n",
    "</div>"
   ]
  },
  {
   "cell_type": "code",
   "execution_count": 13,
   "metadata": {},
   "outputs": [],
   "source": [
    "# --- Target / Features ---\n",
    "y = data['Price']\n",
    "X = data.drop(columns=['Price'])\n",
    "\n",
    "# --- Identify column types ---\n",
    "cat_cols = X.select_dtypes(include='object').columns.tolist()\n",
    "num_cols = X.select_dtypes(include=['number', 'float', 'int', 'int64']).columns.tolist()\n",
    "\n",
    "# --- Train/test split (keep indices so CatBoost uses the same split) ---\n",
    "train_idx, test_idx = train_test_split(\n",
    "    X.index, test_size=0.2, random_state=42, shuffle=True\n",
    ")\n",
    "X_train, X_test = X.loc[train_idx], X.loc[test_idx]\n",
    "y_train, y_test = y.loc[train_idx], y.loc[test_idx]\n",
    "\n",
    "def rmse(y_true, y_pred):\n",
    "    return mean_squared_error(y_true, y_pred, squared=False)"
   ]
  },
  {
   "cell_type": "code",
   "execution_count": 14,
   "metadata": {},
   "outputs": [],
   "source": [
    "# LightGBM\n",
    "\n",
    "X_lgb = X.copy()\n",
    "cat_cols = X_lgb.select_dtypes(include='object').columns.tolist()\n",
    "\n",
    "# Convert to pandas 'category'\n",
    "for c in cat_cols:\n",
    "    X_lgb[c] = X_lgb[c].astype('category')\n",
    "\n",
    "lgbm = LGBMRegressor(\n",
    "    objective='regression',\n",
    "    n_estimators=3000,\n",
    "    learning_rate=0.03,\n",
    "    num_leaves=64,\n",
    "    subsample=0.8,\n",
    "    colsample_bytree=0.8,\n",
    "    reg_lambda=1.0,\n",
    "    random_state=42\n",
    ")"
   ]
  },
  {
   "cell_type": "code",
   "execution_count": 15,
   "metadata": {},
   "outputs": [
    {
     "name": "stderr",
     "output_type": "stream",
     "text": [
      "/.venv/lib/python3.9/site-packages/lightgbm/sklearn.py:726: UserWarning: 'early_stopping_rounds' argument is deprecated and will be removed in a future release of LightGBM. Pass 'early_stopping()' callback via 'callbacks' argument instead.\n",
      "  _log_warning(\"'early_stopping_rounds' argument is deprecated and will be removed in a future release of LightGBM. \"\n",
      "/.venv/lib/python3.9/site-packages/lightgbm/sklearn.py:736: UserWarning: 'verbose' argument is deprecated and will be removed in a future release of LightGBM. Pass 'log_evaluation()' callback via 'callbacks' argument instead.\n",
      "  _log_warning(\"'verbose' argument is deprecated and will be removed in a future release of LightGBM. \"\n",
      "/.venv/lib/python3.9/site-packages/lightgbm/basic.py:1780: UserWarning: Overriding the parameters from Reference Dataset.\n",
      "  _log_warning('Overriding the parameters from Reference Dataset.')\n",
      "/.venv/lib/python3.9/site-packages/lightgbm/basic.py:1513: UserWarning: categorical_column in param dict is overridden.\n",
      "  _log_warning(f'{cat_alias} in param dict is overridden.')\n"
     ]
    },
    {
     "name": "stdout",
     "output_type": "stream",
     "text": [
      "CPU times: user 2min 6s, sys: 369 ms, total: 2min 7s\n",
      "Wall time: 1min 3s\n"
     ]
    },
    {
     "data": {
      "text/plain": [
       "LGBMRegressor(colsample_bytree=0.8, learning_rate=0.03, n_estimators=3000,\n",
       "              num_leaves=64, objective='regression', random_state=42,\n",
       "              reg_lambda=1.0, subsample=0.8)"
      ]
     },
     "execution_count": 15,
     "metadata": {},
     "output_type": "execute_result"
    }
   ],
   "source": [
    "%%time\n",
    "lgbm.fit(\n",
    "    X_lgb.loc[train_idx], y_train,\n",
    "    eval_set=[(X_lgb.loc[test_idx], y_test)],\n",
    "    eval_metric='rmse',\n",
    "    early_stopping_rounds=100,\n",
    "    verbose=False\n",
    ")\n"
   ]
  },
  {
   "cell_type": "markdown",
   "metadata": {},
   "source": [
    "\n",
    "<div style=\"border: 5px solid red; padding: 15px; margin: 5px\">\n",
    "<b>   Reviewer's comment 2 </b>\n",
    "    \n",
    "Same issue: here you measure how much time it will take to do everything in the cell above while we need training time. </div>"
   ]
  },
  {
   "cell_type": "code",
   "execution_count": 16,
   "metadata": {},
   "outputs": [
    {
     "name": "stdout",
     "output_type": "stream",
     "text": [
      "LightGBM RMSE: 1364.3300869702862\n",
      "CPU times: user 18.1 s, sys: 3.63 ms, total: 18.1 s\n",
      "Wall time: 9.05 s\n"
     ]
    }
   ],
   "source": [
    "%%time\n",
    "y_pred_lgb = lgbm.predict(X_lgb.loc[test_idx])\n",
    "rmse_lgb = mean_squared_error(y_test, y_pred_lgb, squared=False)\n",
    "print(\"LightGBM RMSE:\", rmse_lgb)"
   ]
  },
  {
   "cell_type": "markdown",
   "metadata": {},
   "source": [
    "<div style=\"border: 5px solid red; padding: 15px; margin: 5px\">\n",
    "<b> Reviewer's comment</b>\n",
    "\n",
    "\n",
    "Same issue here and further: we need to calculate training and prediction time. \n",
    "\n",
    "</div>"
   ]
  },
  {
   "cell_type": "markdown",
   "metadata": {},
   "source": [
    "<div style=\"border: 5px solid blue; padding: 10px; margin: 5px\">\n",
    "<b>   Student's comment </b>\n",
    "    \n",
    "I couldn't figure out how to use the time commands, so I hope this works as a substitute...\n",
    "\n",
    "</div>"
   ]
  },
  {
   "cell_type": "markdown",
   "metadata": {},
   "source": [
    "<div style=\"border: 5px solid green; padding: 15px; margin: 5px\">\n",
    "<b>   Reviewer's comment 2 </b>\n",
    "    \n",
    "You used them correctly. If you mean the code I provided, then you need to import `time` from the `time` module. \n",
    "\n",
    "</div>"
   ]
  },
  {
   "cell_type": "code",
   "execution_count": 17,
   "metadata": {},
   "outputs": [],
   "source": [
    "# XGBoost\n",
    "\n",
    "preprocess = ColumnTransformer(\n",
    "    transformers=[\n",
    "        ('cat', OneHotEncoder(handle_unknown='ignore', sparse=True), cat_cols),\n",
    "        ('num', 'passthrough', num_cols)\n",
    "    ],\n",
    "    remainder='drop'\n",
    ")\n",
    "\n",
    "xgb = XGBRegressor(\n",
    "    objective='reg:squarederror',\n",
    "    n_estimators=1200,       # big + early stopping\n",
    "    learning_rate=0.03,\n",
    "    max_depth=8,\n",
    "    subsample=0.8,\n",
    "    colsample_bytree=0.8,\n",
    "    min_child_weight=5,\n",
    "    reg_lambda=1.0,\n",
    "    tree_method='hist',     # fast on CPUs\n",
    "    random_state=42\n",
    ")\n",
    "\n",
    "pipe_xgb = Pipeline(steps=[('prep', preprocess), ('model', xgb)])\n",
    "\n",
    "# Need transformed validation set for eval_set:\n",
    "X_train_enc = preprocess.fit_transform(X_train)\n",
    "X_test_enc  = preprocess.transform(X_test)"
   ]
  },
  {
   "cell_type": "code",
   "execution_count": 18,
   "metadata": {},
   "outputs": [
    {
     "name": "stdout",
     "output_type": "stream",
     "text": [
      "CPU times: user 1min 54s, sys: 146 ms, total: 1min 54s\n",
      "Wall time: 57.8 s\n"
     ]
    },
    {
     "data": {
      "text/plain": [
       "XGBRegressor(base_score=0.5, booster='gbtree', colsample_bylevel=1,\n",
       "             colsample_bynode=1, colsample_bytree=0.8, enable_categorical=False,\n",
       "             gamma=0, gpu_id=-1, importance_type=None,\n",
       "             interaction_constraints='', learning_rate=0.03, max_delta_step=0,\n",
       "             max_depth=8, min_child_weight=5, missing=nan,\n",
       "             monotone_constraints='()', n_estimators=1200, n_jobs=8,\n",
       "             num_parallel_tree=1, predictor='auto', random_state=42,\n",
       "             reg_alpha=0, reg_lambda=1.0, scale_pos_weight=1, subsample=0.8,\n",
       "             tree_method='hist', validate_parameters=1, verbosity=None)"
      ]
     },
     "execution_count": 18,
     "metadata": {},
     "output_type": "execute_result"
    }
   ],
   "source": [
    "%%time\n",
    "pipe_xgb.named_steps['model'].fit(\n",
    "    X_train_enc, y_train,\n",
    "    eval_set=[(X_test_enc, y_test)],\n",
    "    eval_metric='rmse',\n",
    "    early_stopping_rounds=100,\n",
    "    verbose=False\n",
    ")"
   ]
  },
  {
   "cell_type": "code",
   "execution_count": 19,
   "metadata": {},
   "outputs": [
    {
     "name": "stdout",
     "output_type": "stream",
     "text": [
      "XGBoost RMSE: 1397.3747221563463\n",
      "CPU times: user 9.29 s, sys: 3.96 ms, total: 9.3 s\n",
      "Wall time: 4.61 s\n"
     ]
    }
   ],
   "source": [
    "%%time\n",
    "y_pred_xgb = pipe_xgb.named_steps['model'].predict(X_test_enc)\n",
    "print(\"XGBoost RMSE:\", rmse(y_test, y_pred_xgb))"
   ]
  },
  {
   "cell_type": "code",
   "execution_count": 20,
   "metadata": {},
   "outputs": [
    {
     "name": "stdout",
     "output_type": "stream",
     "text": [
      "CPU times: user 43.7 ms, sys: 3.89 ms, total: 47.6 ms\n",
      "Wall time: 62.3 ms\n"
     ]
    }
   ],
   "source": [
    "%%time\n",
    "# CatBoost\n",
    "\n",
    "# Convert categoricals to string (robust against NaNs) and note their indices\n",
    "X_cb = X.copy()\n",
    "for c in cat_cols:\n",
    "    X_cb[c] = X_cb[c].astype('object')\n",
    "\n",
    "cat_features_idx = [X_cb.columns.get_loc(c) for c in cat_cols]\n",
    "\n",
    "X_train_cb, X_test_cb = X_cb.loc[train_idx], X_cb.loc[test_idx]\n",
    "\n",
    "cat = CatBoostRegressor(\n",
    "    loss_function='RMSE',\n",
    "    iterations=1200,       # big + overfitting detector\n",
    "    learning_rate=0.03,\n",
    "    depth=8,\n",
    "    l2_leaf_reg=3.0,\n",
    "    random_seed=42,\n",
    "    od_type='Iter',\n",
    "    od_wait=100,\n",
    "    verbose=False\n",
    ")"
   ]
  },
  {
   "cell_type": "code",
   "execution_count": 21,
   "metadata": {},
   "outputs": [
    {
     "name": "stdout",
     "output_type": "stream",
     "text": [
      "CPU times: user 5min 29s, sys: 2.13 s, total: 5min 31s\n",
      "Wall time: 2min 49s\n"
     ]
    },
    {
     "data": {
      "text/plain": [
       "<catboost.core.CatBoostRegressor at 0x7fd5da84c9d0>"
      ]
     },
     "execution_count": 21,
     "metadata": {},
     "output_type": "execute_result"
    }
   ],
   "source": [
    "%%time\n",
    "cat.fit(\n",
    "    X_train_cb, y_train,\n",
    "    cat_features=cat_features_idx,\n",
    "    eval_set=(X_test_cb, y_test)\n",
    ")"
   ]
  },
  {
   "cell_type": "code",
   "execution_count": 22,
   "metadata": {},
   "outputs": [
    {
     "name": "stdout",
     "output_type": "stream",
     "text": [
      "CatBoost RMSE: 1423.0751037627117\n",
      "CPU times: user 350 ms, sys: 7.96 ms, total: 358 ms\n",
      "Wall time: 200 ms\n"
     ]
    }
   ],
   "source": [
    "%%time\n",
    "y_pred_cb = cat.predict(X_test_cb)\n",
    "print(\"CatBoost RMSE:\", rmse(y_test, y_pred_cb))"
   ]
  },
  {
   "cell_type": "markdown",
   "metadata": {},
   "source": [
    "<div style=\"border: 5px solid gold; padding: 15px; margin: 5px\">\n",
    "<b>   Reviewer's comment </b>\n",
    "    \n",
    "    \n",
    "- After we train all models, it is recommended that we choose the best **one** and check its performance on the test subset. Here we only need to make predictions and calculate RMSE. For the final testing, where we use the test subset to check the model's generalization ability, we should use the best model (one model or two models if they have almost the same metric values). We don't use all models here because even just checking their performance influences our choices. This leads to test set leakage when we unconsciously start picking models that perform well on the test set, making it part of the training loop. In real-world scenarios, the test set is meant to reflect how the final model performs in the wild. In practice, you only deploy one model, not several models, so testing just that final one mirrors reality. Moreover, evaluating every tuned model on the test set (especially with big models or datasets) is expensive and time-consuming. \n",
    "\n",
    "\n",
    "\n",
    "\n",
    "- When choosing the best model, we have to consider prediction time as well. The best model isn't always the one with the lowest error. Sometimes the errors are only slightly different, but the prediction time varies significantly. In such cases, it's worth considering a faster model. Think of a slow search engine that finds 10 useful links versus a fast one that finds 9. This is especially important if the model needs to operate in real time and produce results repeatedly. If a program runs just once, its speed might not even matter. But if it’s used continuously, optimization becomes crucial. So, in practice, apart from the other requirements, there are also runtime constraints for the model.\n",
    "\n",
    "</div>"
   ]
  },
  {
   "cell_type": "markdown",
   "metadata": {},
   "source": [
    "<div style=\"border: 5px solid blue; padding: 10px; margin: 5px\">\n",
    "<b>   Student's comment </b>\n",
    "    \n",
    "I will take this into account on my next project. Thanks for the heads up! \n",
    "\n",
    "</div>"
   ]
  },
  {
   "cell_type": "markdown",
   "metadata": {},
   "source": [
    "<div style=\"border: 5px solid green; padding: 15px; margin: 5px\">\n",
    "<b>   Reviewer's comment 2 </b>\n",
    "    \n",
    "Good :) \n",
    "</div>"
   ]
  },
  {
   "cell_type": "markdown",
   "metadata": {},
   "source": [
    "## Model Analysis"
   ]
  },
  {
   "cell_type": "markdown",
   "metadata": {},
   "source": [
    "The trained models produced clear differences in predictive performance. Linear Regression achieved an RMSE of roughly 2,100, which was a substantial improvement over the baseline RMSE of about 3,400. However, the ensemble gradient boosting models demonstrated much stronger results. LightGBM, XGBoost, and CatBoost all achieved RMSE values near 1,350, cutting error rates by more than half compared to the baseline and showing that boosted tree methods are highly effective for this dataset. These results highlight the importance of using advanced, non-linear models when dealing with structured tabular data that contains complex relationships between features.\n",
    "\n",
    "For time reasons, since all gradient boosting models produced similar RMSE, the client should be advised to use a LightGBM or XGBoost model since training took significantly shorter than CatBoost."
   ]
  },
  {
   "cell_type": "markdown",
   "metadata": {},
   "source": [
    "<div style=\"border: 5px solid green; padding: 10px; margin: 5px\">\n",
    "<b>   Reviewer's comment </b>\n",
    "   \n",
    "Great conclusion! This is a solid final summary with comparison across models.    \n",
    "</div>    \n",
    "\n",
    "<div style=\"border: 5px solid red; padding: 10px; margin: 5px\">\n",
    "<b>   Reviewer's comment </b>\n",
    "    \n",
    "Don't forget to update it if needed. \n",
    "\n",
    "</div>"
   ]
  },
  {
   "cell_type": "markdown",
   "metadata": {},
   "source": [
    "<div style=\"border: 5px solid blue; padding: 10px; margin: 5px\">\n",
    "<b>   Student's comment </b>\n",
    "    \n",
    "Updated! :) \n",
    "\n",
    "</div>"
   ]
  },
  {
   "cell_type": "markdown",
   "metadata": {},
   "source": [
    "# Checklist"
   ]
  },
  {
   "cell_type": "markdown",
   "metadata": {},
   "source": [
    "Type 'x' to check. Then press Shift+Enter."
   ]
  },
  {
   "cell_type": "markdown",
   "metadata": {},
   "source": [
    "- [x]  Jupyter Notebook is open\n",
    "- [x]  Code is error free\n",
    "- [x]  The cells with the code have been arranged in order of execution\n",
    "- [x]  The data has been downloaded and prepared\n",
    "- [x]  The models have been trained\n",
    "- [x]  The analysis of speed and quality of the models has been performed"
   ]
  }
 ],
 "metadata": {
  "kernelspec": {
   "display_name": "Python 3 (ipykernel)",
   "language": "python",
   "name": "python3"
  },
  "language_info": {
   "codemirror_mode": {
    "name": "ipython",
    "version": 3
   },
   "file_extension": ".py",
   "mimetype": "text/x-python",
   "name": "python",
   "nbconvert_exporter": "python",
   "pygments_lexer": "ipython3",
   "version": "3.9.23"
  }
 },
 "nbformat": 4,
 "nbformat_minor": 4
}
