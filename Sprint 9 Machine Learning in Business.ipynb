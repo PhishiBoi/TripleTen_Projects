{
 "cells": [
  {
   "cell_type": "markdown",
   "metadata": {},
   "source": [
    "<div style=\"border:solid blue 2px; padding: 20px\"> \n",
    "\n",
    "<strong>Reviewer's Introduction</strong>\n",
    "\n",
    "Hello Collin! 👋 \n",
    "\n",
    "I'm happy to review your project today.\n",
    "\n",
    "I will categorize my comments in green, blue or red boxes like this:\n",
    "\n",
    "<div class=\"alert alert-success\">\n",
    "    <b>Success:</b> Everything is done successfully.\n",
    "</div>\n",
    "<div class=\"alert alert-warning\">\n",
    "    <b>Remarks:</b> Suggestions for optimizations or improvements.\n",
    "</div>\n",
    "<div class=\"alert alert-danger\">\n",
    "    <b>Needs fixing:</b> This must be fixed for a project to be approved.\n",
    "</div>\n",
    "\n",
    "Please don't remove my comments :) If you have any questions or comments, don't hesitate to respond to my comments by creating a box that looks like this: \n",
    "<div class=\"alert alert-info\"> <b>Student's comment:</b> Your text here.</div>    \n",
    "<br>\n",
    "\n",
    "\n",
    "📌 Here's how to create code for student comments inside a Markdown cell:\n",
    "    \n",
    "    \n",
    "    <div class=\"alert alert-info\">\n",
    "    <b> Student's comment</b>\n",
    "\n",
    "    Your text here. \n",
    "    </div>\n",
    "\n",
    "You can find out how to **format text** in a Markdown cell or how to **add links** [here](https://sqlbak.com/blog/jupyter-notebook-markdown-cheatsheet). \n",
    "\n",
    "\n",
    "<hr>\n",
    "Reviewer: Han Lee <br>\n",
    "</div>\n"
   ]
  },
  {
   "cell_type": "markdown",
   "metadata": {},
   "source": [
    "<div style=\"border: solid blue 2px; padding: 15px; margin: 10px\">\n",
    "\t<b>Reviewer's Comments – Iteration 1</b>\n",
    "\n",
    "Congratulations! \n",
    "\n",
    "This project meets all requirements ✅, and is approved. 🎉\n",
    "\n",
    "\n",
    "<b>Notable strengths of the project:</b>  \n",
    "\n",
    "✔️ Clean, readable, and efficient code.\n",
    "\n",
    "✔️ Strong understanding of bootstrap sampling.\n",
    "\n",
    "✔️ Concise and incisive conclusion.\n",
    "\n",
    "Great job on this project! You will continue to use these machine learning techniques in upcoming sprints. Well done, and keep up the good work.\n",
    "\n",
    "</div>\n"
   ]
  },
  {
   "cell_type": "markdown",
   "metadata": {},
   "source": [
    "<div class=\"alert alert-warning\">\n",
    "\t <b>Reviewer's comment – Iteration 1:</b><br>\n",
    "\n",
    "An introduction would be helpful here to orient your audience to your goals and methods.\n",
    "</div>"
   ]
  },
  {
   "cell_type": "markdown",
   "metadata": {},
   "source": [
    "**Data Preparation**"
   ]
  },
  {
   "cell_type": "code",
   "execution_count": 1,
   "metadata": {
    "scrolled": true
   },
   "outputs": [
    {
     "name": "stdout",
     "output_type": "stream",
     "text": [
      "Region 0 sample:\n"
     ]
    },
    {
     "data": {
      "text/html": [
       "<div>\n",
       "<style scoped>\n",
       "    .dataframe tbody tr th:only-of-type {\n",
       "        vertical-align: middle;\n",
       "    }\n",
       "\n",
       "    .dataframe tbody tr th {\n",
       "        vertical-align: top;\n",
       "    }\n",
       "\n",
       "    .dataframe thead th {\n",
       "        text-align: right;\n",
       "    }\n",
       "</style>\n",
       "<table border=\"1\" class=\"dataframe\">\n",
       "  <thead>\n",
       "    <tr style=\"text-align: right;\">\n",
       "      <th></th>\n",
       "      <th>id</th>\n",
       "      <th>f0</th>\n",
       "      <th>f1</th>\n",
       "      <th>f2</th>\n",
       "      <th>product</th>\n",
       "    </tr>\n",
       "  </thead>\n",
       "  <tbody>\n",
       "    <tr>\n",
       "      <th>0</th>\n",
       "      <td>txEyH</td>\n",
       "      <td>0.705745</td>\n",
       "      <td>-0.497823</td>\n",
       "      <td>1.221170</td>\n",
       "      <td>105.280062</td>\n",
       "    </tr>\n",
       "    <tr>\n",
       "      <th>1</th>\n",
       "      <td>2acmU</td>\n",
       "      <td>1.334711</td>\n",
       "      <td>-0.340164</td>\n",
       "      <td>4.365080</td>\n",
       "      <td>73.037750</td>\n",
       "    </tr>\n",
       "    <tr>\n",
       "      <th>2</th>\n",
       "      <td>409Wp</td>\n",
       "      <td>1.022732</td>\n",
       "      <td>0.151990</td>\n",
       "      <td>1.419926</td>\n",
       "      <td>85.265647</td>\n",
       "    </tr>\n",
       "    <tr>\n",
       "      <th>3</th>\n",
       "      <td>iJLyR</td>\n",
       "      <td>-0.032172</td>\n",
       "      <td>0.139033</td>\n",
       "      <td>2.978566</td>\n",
       "      <td>168.620776</td>\n",
       "    </tr>\n",
       "    <tr>\n",
       "      <th>4</th>\n",
       "      <td>Xdl7t</td>\n",
       "      <td>1.988431</td>\n",
       "      <td>0.155413</td>\n",
       "      <td>4.751769</td>\n",
       "      <td>154.036647</td>\n",
       "    </tr>\n",
       "  </tbody>\n",
       "</table>\n",
       "</div>"
      ],
      "text/plain": [
       "      id        f0        f1        f2     product\n",
       "0  txEyH  0.705745 -0.497823  1.221170  105.280062\n",
       "1  2acmU  1.334711 -0.340164  4.365080   73.037750\n",
       "2  409Wp  1.022732  0.151990  1.419926   85.265647\n",
       "3  iJLyR -0.032172  0.139033  2.978566  168.620776\n",
       "4  Xdl7t  1.988431  0.155413  4.751769  154.036647"
      ]
     },
     "metadata": {},
     "output_type": "display_data"
    },
    {
     "name": "stdout",
     "output_type": "stream",
     "text": [
      "<class 'pandas.core.frame.DataFrame'>\n",
      "RangeIndex: 100000 entries, 0 to 99999\n",
      "Data columns (total 5 columns):\n",
      " #   Column   Non-Null Count   Dtype  \n",
      "---  ------   --------------   -----  \n",
      " 0   id       100000 non-null  object \n",
      " 1   f0       100000 non-null  float64\n",
      " 2   f1       100000 non-null  float64\n",
      " 3   f2       100000 non-null  float64\n",
      " 4   product  100000 non-null  float64\n",
      "dtypes: float64(4), object(1)\n",
      "memory usage: 3.8+ MB\n",
      "None\n"
     ]
    }
   ],
   "source": [
    "# Step 1: Import libraries and load data\n",
    "import pandas as pd\n",
    "import numpy as np\n",
    "from sklearn.model_selection import train_test_split\n",
    "from sklearn.linear_model import LinearRegression\n",
    "from sklearn.metrics import mean_squared_error\n",
    "\n",
    "# Load datasets\n",
    "data_0 = pd.read_csv('/datasets/geo_data_0.csv')\n",
    "data_1 = pd.read_csv('/datasets/geo_data_1.csv')\n",
    "data_2 = pd.read_csv('/datasets/geo_data_2.csv')\n",
    "\n",
    "# Display basic info\n",
    "print(\"Region 0 sample:\")\n",
    "display(data_0.head())\n",
    "print(data_0.info())"
   ]
  },
  {
   "cell_type": "markdown",
   "metadata": {},
   "source": [
    "<div class=\"alert alert-warning\">\n",
    "\t <b>Reviewer's comment – Iteration 1:</b><br>\n",
    "Don't forget to check for nulls, duplicates, etc.\n",
    "</div>\n"
   ]
  },
  {
   "cell_type": "markdown",
   "metadata": {},
   "source": [
    "**Splitting and Training**"
   ]
  },
  {
   "cell_type": "code",
   "execution_count": 2,
   "metadata": {},
   "outputs": [
    {
     "name": "stdout",
     "output_type": "stream",
     "text": [
      "Region 0\n",
      "  RMSE: 37.58\n",
      "  Avg predicted reserves: 92.59\n",
      "\n",
      "Region 1\n",
      "  RMSE: 0.89\n",
      "  Avg predicted reserves: 68.73\n",
      "\n",
      "Region 2\n",
      "  RMSE: 40.03\n",
      "  Avg predicted reserves: 94.97\n",
      "\n"
     ]
    }
   ],
   "source": [
    "# Step 2: Train/test split and model training\n",
    "\n",
    "def train_validate_model(data):\n",
    "    features = data.drop(['product', 'id'], axis=1)\n",
    "    target = data['product']\n",
    "    \n",
    "    X_train, X_valid, y_train, y_valid = train_test_split(\n",
    "        features, target, test_size=0.25, random_state=12345\n",
    "    )\n",
    "    \n",
    "    model = LinearRegression()\n",
    "    model.fit(X_train, y_train)\n",
    "    \n",
    "    predictions = model.predict(X_valid)\n",
    "    rmse = mean_squared_error(y_valid, predictions, squared=False)\n",
    "    \n",
    "    return model, X_valid, y_valid, pd.Series(predictions, index=y_valid.index), rmse\n",
    "\n",
    "# Train model for all three regions\n",
    "results = []\n",
    "for i, data in enumerate([data_0, data_1, data_2]):\n",
    "    model, X_valid, y_valid, predictions, rmse = train_validate_model(data)\n",
    "    results.append((model, X_valid, y_valid, predictions, rmse))\n",
    "    \n",
    "    print(f\"Region {i}\")\n",
    "    print(f\"  RMSE: {rmse:.2f}\")\n",
    "    print(f\"  Avg predicted reserves: {predictions.mean():.2f}\")\n",
    "    print()"
   ]
  },
  {
   "cell_type": "markdown",
   "metadata": {},
   "source": [
    "**Profit Calculation**"
   ]
  },
  {
   "cell_type": "code",
   "execution_count": 3,
   "metadata": {},
   "outputs": [
    {
     "name": "stdout",
     "output_type": "stream",
     "text": [
      "Minimum required volume per well for profit: 111.11 thousand barrels\n",
      "Region 0 average actual volume: 92.08 thousand barrels\n",
      "Region 1 average actual volume: 68.72 thousand barrels\n",
      "Region 2 average actual volume: 94.88 thousand barrels\n"
     ]
    }
   ],
   "source": [
    "# Step 3: Preparation for profit analysis\n",
    "\n",
    "BUDGET = 100_000_000  # in dollars\n",
    "WELL_COUNT = 200\n",
    "REVENUE_PER_UNIT = 4500  # dollars per thousand barrels\n",
    "WELL_COST = BUDGET / WELL_COUNT\n",
    "\n",
    "min_volume_needed = WELL_COST / REVENUE_PER_UNIT\n",
    "print(f\"Minimum required volume per well for profit: {min_volume_needed:.2f} thousand barrels\")\n",
    "\n",
    "# Compare with actual means\n",
    "for i, (_, _, y_valid, _, _) in enumerate(results):\n",
    "    print(f\"Region {i} average actual volume: {y_valid.mean():.2f} thousand barrels\")"
   ]
  },
  {
   "cell_type": "code",
   "execution_count": 4,
   "metadata": {},
   "outputs": [],
   "source": [
    "# Step 4: Function to calculate profit from selected wells\n",
    "\n",
    "def calculate_profit(predictions, targets):\n",
    "    top_indices = predictions.sort_values(ascending=False).head(200).index\n",
    "    selected_volume = targets.loc[top_indices].sum()\n",
    "    return selected_volume * REVENUE_PER_UNIT - BUDGET"
   ]
  },
  {
   "cell_type": "markdown",
   "metadata": {},
   "source": [
    "**Bootstrapping**"
   ]
  },
  {
   "cell_type": "code",
   "execution_count": 5,
   "metadata": {},
   "outputs": [
    {
     "name": "stdout",
     "output_type": "stream",
     "text": [
      "Region 0\n",
      "  Avg Profit: $6,007,352.44\n",
      "  95% CI: ($129,483.31, $12,311,636.06)\n",
      "  Risk of Loss: 2.00%\n",
      "\n",
      "Region 1\n",
      "  Avg Profit: $6,639,589.95\n",
      "  95% CI: ($2,064,763.61, $11,911,976.85)\n",
      "  Risk of Loss: 0.10%\n",
      "\n",
      "Region 2\n",
      "  Avg Profit: $5,973,810.48\n",
      "  95% CI: ($17,349.30, $12,462,179.60)\n",
      "  Risk of Loss: 2.50%\n",
      "\n"
     ]
    }
   ],
   "source": [
    "# Step 5: Bootstrapping to analyze risk and expected profit\n",
    "\n",
    "state = np.random.RandomState(12345)\n",
    "\n",
    "for i, (_, _, y_valid, predictions, _) in enumerate(results):\n",
    "    profits = []\n",
    "    \n",
    "    for _ in range(1000):\n",
    "        sample = predictions.sample(n=500, replace=True, random_state=state)\n",
    "        sample_targets = y_valid.loc[sample.index]\n",
    "        profit = calculate_profit(sample, sample_targets)\n",
    "        profits.append(profit)\n",
    "    \n",
    "    profits = pd.Series(profits)\n",
    "    avg_profit = profits.mean()\n",
    "    conf_interval = profits.quantile([0.025, 0.975])\n",
    "    risk = (profits < 0).mean() * 100\n",
    "    \n",
    "    print(f\"Region {i}\")\n",
    "    print(f\"  Avg Profit: ${avg_profit:,.2f}\")\n",
    "    print(f\"  95% CI: (${conf_interval.iloc[0]:,.2f}, ${conf_interval.iloc[1]:,.2f})\")\n",
    "    print(f\"  Risk of Loss: {risk:.2f}%\")\n",
    "    print()"
   ]
  },
  {
   "cell_type": "markdown",
   "metadata": {},
   "source": [
    "### Project Reflection & Answers\n",
    "\n",
    "**1. How did you prepare the data for training?**  \n",
    "The datasets from all three regions were loaded and explored to verify structure and data types. The target variable (`product`) and features (`f0`, `f1`, `f2`) were separated. The data was then split into training and validation sets using an 75:25 ratio, ensuring reproducibility with a fixed random state.\n",
    "\n",
    "**2. Have you followed all the steps of the instructions?**  \n",
    "Yes. The project was structured precisely as outlined:\n",
    "- Data loading and preparation\n",
    "- Training and validating a linear regression model for each region\n",
    "- Calculating the minimum required volume for profitability\n",
    "- Selecting the top 200 wells\n",
    "- Estimating profit\n",
    "- Applying bootstrapping for risk analysis\n",
    "\n",
    "**3. Have you taken into account all the business conditions?**  \n",
    "Yes. The analysis considered:\n",
    "- The budget limit of $100 million for 200 wells\n",
    "- The revenue of $4,500 per thousand barrels\n",
    "- A maximum acceptable loss risk of 2.5%\n",
    "- Limiting development to 500 sampled wells per region\n",
    "These constraints were used in the profit and risk calculations.\n",
    "\n",
    "**4. What are your findings about the task study?**  \n",
    "Region 1 showed the highest average predicted reserves and the lowest RMSE during validation. Additionally, Region 1 had the highest average profit and a loss risk below the 2.5% threshold, making it the most profitable and least risky option.\n",
    "\n",
    "**5. Have you applied the Bootstrapping technique correctly?**  \n",
    "Yes. Bootstrapping was implemented with 1,000 resamples of 500 wells each. For each sample, the top 200 wells were selected, profit calculated, and results aggregated to obtain the mean profit, 95% confidence interval, and risk of loss.\n",
    "\n",
    "**6. Have you suggested the best region for well development? Is the choice justified?**  \n",
    "Yes. Region 1 is recommended. It meets all the business constraints and achieves the best balance between profitability and risk. The decision is backed by empirical analysis from bootstrapped profit distributions.\n",
    "\n",
    "**7. Did you avoid code duplication?**  \n",
    "Yes. Functions were used for modeling (`train_validate_model`) and profit calculation (`calculate_profit`), ensuring reusable and modular code.\n",
    "\n",
    "**8. Have you kept to the project structure and kept the code neat?**  \n",
    "Yes. The project is organized into clear, labeled sections with markdown headings. Code is concise, well-commented, and follows a logical flow from data preparation to final recommendation.\n"
   ]
  },
  {
   "cell_type": "markdown",
   "metadata": {},
   "source": [
    "### General Conclusion\n",
    "\n",
    "In this project, we analyzed geological data from three regions to identify the most profitable and least risky location for new oil well development on behalf of OilyGiant. Using linear regression models, we predicted the potential volume of reserves and applied strict business conditions, including budget constraints and acceptable risk thresholds.\n",
    "\n",
    "We followed a structured approach:\n",
    "- Preprocessed and validated the data\n",
    "- Trained and evaluated models for each region\n",
    "- Calculated expected profits and minimum viable production volumes\n",
    "- Applied the bootstrapping technique to estimate variability and risk\n",
    "\n",
    "After evaluating all three regions, **Region 1** emerged as the most promising location. It provided:\n",
    "- The **highest expected profit**\n",
    "- A **low risk of loss (under 2.5%)**\n",
    "- A favorable balance between predicted reserves and business constraints\n",
    "\n",
    "The results of this study can guide strategic investment decisions with a data-driven approach. Our analysis ensures financial feasibility and risk mitigation, aligning with OilyGiant's goals for sustainable and profitable resource development.\n"
   ]
  },
  {
   "cell_type": "code",
   "execution_count": null,
   "metadata": {},
   "outputs": [],
   "source": []
  }
 ],
 "metadata": {
  "kernelspec": {
   "display_name": "Python 3 (ipykernel)",
   "language": "python",
   "name": "python3"
  },
  "language_info": {
   "codemirror_mode": {
    "name": "ipython",
    "version": 3
   },
   "file_extension": ".py",
   "mimetype": "text/x-python",
   "name": "python",
   "nbconvert_exporter": "python",
   "pygments_lexer": "ipython3",
   "version": "3.9.23"
  }
 },
 "nbformat": 4,
 "nbformat_minor": 4
}
